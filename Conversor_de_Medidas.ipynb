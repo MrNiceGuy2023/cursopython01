{
  "nbformat": 4,
  "nbformat_minor": 0,
  "metadata": {
    "colab": {
      "provenance": [],
      "authorship_tag": "ABX9TyNz7ukaSlIuZ9OhcZ1joqml",
      "include_colab_link": true
    },
    "kernelspec": {
      "name": "python3",
      "display_name": "Python 3"
    },
    "language_info": {
      "name": "python"
    }
  },
  "cells": [
    {
      "cell_type": "markdown",
      "metadata": {
        "id": "view-in-github",
        "colab_type": "text"
      },
      "source": [
        "<a href=\"https://colab.research.google.com/github/MrNiceGuy2023/cursopython01/blob/main/Conversor_de_Medidas.ipynb\" target=\"_parent\"><img src=\"https://colab.research.google.com/assets/colab-badge.svg\" alt=\"Open In Colab\"/></a>"
      ]
    },
    {
      "cell_type": "code",
      "execution_count": null,
      "metadata": {
        "id": "slslDEu4TisD"
      },
      "outputs": [],
      "source": [
        "# Conversor de medidas\n",
        "while True:\n",
        "  # 1. Recebe o valor e a unidade de entrada\n",
        "  valor = float(input(\"Digite o valor que deseja converter:\"))\n",
        "  print(\"\\nEscolha a conversão desejada:\")\n",
        "  print(\"1 - Metros para centímetros\")\n",
        "  print(\"2 - Quilômetros para Metros\")\n",
        "  print(\"3 - Grama para Quilos\")\n",
        "  print(\"4 - Quilos para Gramas\")\n",
        "\n",
        "  # 2. Receber a escolha do usuário\n",
        "  escolha = input(\"Digite o número da conversão desejada: \")\n",
        "\n",
        "  # 3. Condicional para realizar a conversão escolhida\n",
        "  if escolha == \"1\":\n",
        "    # Converter metros para centímetros\n",
        "    resultado = valor * 100\n",
        "    print(f\"\\n{valor} metros equivale a {resultado} centímetros.\\n\")\n",
        "  elif escolha == \"2\":\n",
        "    # Converter quilômetros para metros\n",
        "    resultado = valor * 1000\n",
        "    print(f\"\\n{valor} quilômetros equivale a {resultado} metros.\\n\")\n",
        "  elif escolha == \"3\":\n",
        "    # Converter gramas para quilos\n",
        "    resultado = valor / 1000\n",
        "    print(f\"\\n{valor} gramas equivale a {resultado} quilos.\\n\")\n",
        "  elif escolha == \"4\":\n",
        "    # Converter quilos para gramas\n",
        "    resultado = valor * 1000\n",
        "    print(f\"\\n{valor} quilos equivale a {resultado} gramas.\\n\")\n",
        "  else:\n",
        "    print(\"\\nOpção inválida! Tente novamente.\\n\")\n",
        "\n",
        "  # Perguntar se o usuário deseja continuar\n",
        "  continuar = input(\"Deseja realizar outra conversão? (s/n): \")\n",
        "  if continuar.lower() != \"s\":\n",
        "    print(\"Obrigado por usar o conversor de unidades. Até breve!\")\n",
        "    break"
      ]
    }
  ]
}